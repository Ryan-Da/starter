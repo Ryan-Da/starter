{
 "cells": [
  {
   "cell_type": "code",
   "execution_count": 7,
   "metadata": {},
   "outputs": [
    {
     "name": "stdout",
     "output_type": "stream",
     "text": [
      "武汉加油💪 💪 💪，白衣天使来拯救你，🦠 死光光\n",
      "你猜猜，一天可以消灭百分之多少🦠 ：5\n",
      "====================100%\n",
      "哈哈哈，🦠已经死光光啦～😄😄😄\n"
     ]
    }
   ],
   "source": [
    "import time\n",
    "import sys\n",
    "\n",
    "print(\"武汉加油💪 💪 💪，白衣天使来拯救你，🦠 死光光\")\n",
    "perc = input(\"你猜猜，一天可以消灭百分之多少🦠 ：\")\n",
    "perc1 = int(perc)\n",
    "\n",
    "count = 2  \n",
    "while int(perc)>100 and count > 0:\n",
    "    perc = input(\"请重新输入:\")\n",
    "    count = count-1\n",
    "if count == 0:\n",
    "        print(\"输入字数过多，下次再来试吧！！！\")\n",
    "        \n",
    "count = int(100 /perc1)\n",
    "yushu = (100%perc1)\n",
    "# print(\"余数是：\", yushu)    \n",
    "\n",
    "l1 = \"=\"\n",
    "l1_perc = l1 + perc + \"%\"     # =5%\n",
    "print(l1_perc, end = '\\r')\n",
    "time.sleep(1)\n",
    "\n",
    "for i in range(1, count):  \n",
    "    h = (i + 1) * perc1               # (1 + 1) * 5, (2 + 1) * 5, (3 + 1) * 5, ...\n",
    "    l11 = l1 * (i + 1) + str(h) + \"%\"   #==10%, ===15%, ====20%\n",
    "    print(l11, end = '\\r')          \n",
    "    sys.stdout.flush()\n",
    "    time.sleep(1)\n",
    "if yushu>0:\n",
    "    l11 = l1 * (count+1) +\"100%\" \n",
    "    print(l11, end = '\\r')  \n",
    "    time.sleep(2)\n",
    "else:\n",
    "    time.sleep(1)\n",
    "    \n",
    "print(\"\\n哈哈哈，🦠已经死光光啦～😄😄😄\")"
   ]
  },
  {
   "cell_type": "code",
   "execution_count": null,
   "metadata": {},
   "outputs": [],
   "source": []
  },
  {
   "cell_type": "code",
   "execution_count": null,
   "metadata": {},
   "outputs": [],
   "source": []
  },
  {
   "cell_type": "code",
   "execution_count": null,
   "metadata": {},
   "outputs": [],
   "source": []
  }
 ],
 "metadata": {
  "kernelspec": {
   "display_name": "Python 3",
   "language": "python",
   "name": "python3"
  },
  "language_info": {
   "codemirror_mode": {
    "name": "ipython",
    "version": 3
   },
   "file_extension": ".py",
   "mimetype": "text/x-python",
   "name": "python",
   "nbconvert_exporter": "python",
   "pygments_lexer": "ipython3",
   "version": "3.7.0"
  }
 },
 "nbformat": 4,
 "nbformat_minor": 2
}
