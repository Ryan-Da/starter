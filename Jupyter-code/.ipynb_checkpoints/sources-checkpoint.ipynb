{
 "cells": [
  {
   "cell_type": "code",
   "execution_count": 12,
   "metadata": {},
   "outputs": [],
   "source": [
    "BOARD_SIZE = 15\n",
    "board=[]\n"
   ]
  },
  {
   "cell_type": "code",
   "execution_count": 14,
   "metadata": {},
   "outputs": [],
   "source": [
    "def initBoard()  :\n",
    "    for i in range(BOARD_SIZE):\n",
    "        row = [\"➕\"] * BOARD_SIZE\n",
    "        board.append(row)\n",
    "        def printBoard():\n",
    "            for j in range(BOARD_SIZE):\n",
    "                print(board [i] [j] , end=\"\")\n",
    "                print ()"
   ]
  },
  {
   "cell_type": "code",
   "execution_count": 15,
   "metadata": {},
   "outputs": [
    {
     "name": "stdout",
     "output_type": "stream",
     "text": [
      "请输入你下棋的坐标，应以x,y的格式：\n",
      "2,5\n"
     ]
    }
   ],
   "source": [
    "initBoard ()\n",
    "inputStr = input (\"请输入你下棋的坐标，应以x,y的格式：\\n\")"
   ]
  },
  {
   "cell_type": "code",
   "execution_count": 17,
   "metadata": {},
   "outputs": [],
   "source": [
    "def printBoard():\n",
    "    for i in range(BOARD_SIZE):\n",
    "        for j in range(BOARD_SIZE):\n",
    "            print(board[i][j], end = \"\")\n",
    "        print()"
   ]
  },
  {
   "cell_type": "code",
   "execution_count": null,
   "metadata": {},
   "outputs": [
    {
     "name": "stdout",
     "output_type": "stream",
     "text": [
      "x_str = 2, y_str = 5\n",
      "➕➕➕➕➕➕➕➕➕➕➕➕➕➕➕\n",
      "➕➕➕➕➕➕➕➕➕➕➕➕➕➕➕\n",
      "➕➕➕➕➕➕➕➕➕➕➕➕➕➕➕\n",
      "➕➕➕➕➕➕➕➕➕➕➕➕➕➕➕\n",
      "➕♟➕➕➕➕➕➕➕➕➕➕➕➕➕\n",
      "➕➕➕➕➕➕➕➕➕➕➕➕➕➕➕\n",
      "➕➕➕➕➕➕➕➕➕➕➕➕➕➕➕\n",
      "➕➕➕➕➕➕➕➕➕➕➕➕➕➕➕\n",
      "➕➕➕➕➕➕➕➕➕➕➕➕➕➕➕\n",
      "➕➕➕➕➕➕➕➕➕➕➕➕➕➕➕\n",
      "➕➕➕➕➕➕➕➕➕➕➕➕➕➕➕\n",
      "➕➕➕➕➕➕➕➕➕➕➕➕➕➕➕\n",
      "➕➕➕➕➕➕➕➕➕➕➕➕➕➕➕\n",
      "➕➕➕➕➕➕➕➕➕➕➕➕➕➕➕\n",
      "➕➕➕➕➕➕➕➕➕➕➕➕➕➕➕\n",
      "请输入你下棋的坐标，应以x,y的格式：\n",
      "3,6\n",
      "x_str = 3, y_str = 6\n",
      "➕➕➕➕➕➕➕➕➕➕➕➕➕➕➕\n",
      "➕➕➕➕➕➕➕➕➕➕➕➕➕➕➕\n",
      "➕➕➕➕➕➕➕➕➕➕➕➕➕➕➕\n",
      "➕➕➕➕➕➕➕➕➕➕➕➕➕➕➕\n",
      "➕♟➕➕➕➕➕➕➕➕➕➕➕➕➕\n",
      "➕➕♟➕➕➕➕➕➕➕➕➕➕➕➕\n",
      "➕➕➕➕➕➕➕➕➕➕➕➕➕➕➕\n",
      "➕➕➕➕➕➕➕➕➕➕➕➕➕➕➕\n",
      "➕➕➕➕➕➕➕➕➕➕➕➕➕➕➕\n",
      "➕➕➕➕➕➕➕➕➕➕➕➕➕➕➕\n",
      "➕➕➕➕➕➕➕➕➕➕➕➕➕➕➕\n",
      "➕➕➕➕➕➕➕➕➕➕➕➕➕➕➕\n",
      "➕➕➕➕➕➕➕➕➕➕➕➕➕➕➕\n",
      "➕➕➕➕➕➕➕➕➕➕➕➕➕➕➕\n",
      "➕➕➕➕➕➕➕➕➕➕➕➕➕➕➕\n"
     ]
    }
   ],
   "source": [
    "while inputStr != None :\n",
    "    x_str, y_str =inputStr.split(sep = \",\")\n",
    "    print(\"x_str = \" + x_str +\", y_str = \" + y_str)\n",
    "    board[int(y_str) - 1] [int(x_str) - 1] =\"♟\"\n",
    "    printBoard( )\n",
    "    inputStr =input(\"请输入你下棋的坐标，应以x,y的格式：\\n\")"
   ]
  },
  {
   "cell_type": "code",
   "execution_count": 1,
   "metadata": {},
   "outputs": [
    {
     "ename": "NameError",
     "evalue": "name 'printBoard' is not defined",
     "output_type": "error",
     "traceback": [
      "\u001b[0;31m---------------------------------------------------------------------------\u001b[0m",
      "\u001b[0;31mNameError\u001b[0m                                 Traceback (most recent call last)",
      "\u001b[0;32m<ipython-input-1-fd2c72fac0b1>\u001b[0m in \u001b[0;36m<module>\u001b[0;34m()\u001b[0m\n\u001b[1;32m      1\u001b[0m \u001b[0;34m\u001b[0m\u001b[0m\n\u001b[0;32m----> 2\u001b[0;31m \u001b[0mprintBoard\u001b[0m \u001b[0;34m(\u001b[0m\u001b[0;34m)\u001b[0m\u001b[0;34m\u001b[0m\u001b[0m\n\u001b[0m",
      "\u001b[0;31mNameError\u001b[0m: name 'printBoard' is not defined"
     ]
    }
   ],
   "source": [
    "\n",
    "printBoard ()\n"
   ]
  },
  {
   "cell_type": "code",
   "execution_count": 2,
   "metadata": {},
   "outputs": [
    {
     "name": "stdout",
     "output_type": "stream",
     "text": [
      "请输入每次增长的百分比：12\n"
     ]
    }
   ],
   "source": [
    "import time\n",
    "import sys\n",
    "\n",
    "perc = input(\"请输入每次增长的百分比：\")\n",
    "perc1 = int(perc)\n",
    "count = 2  \n",
    "while int(perc)>100 and count > 0:\n",
    "    perc = input(\"请重新输入:\")\n",
    "    count = count-1\n",
    " \n",
    "\n",
    "\n",
    "    \n",
    "    "
   ]
  },
  {
   "cell_type": "code",
   "execution_count": 3,
   "metadata": {},
   "outputs": [
    {
     "name": "stdout",
     "output_type": "stream",
     "text": [
      "余数是： 4\n"
     ]
    }
   ],
   "source": [
    "if count == 0:\n",
    "        print(\"输入字数过多，下次再来试吧！！！\")\n",
    "count = int(100 /perc1)\n",
    "yushu = (100%perc1)\n",
    "print(\"余数是：\", yushu)"
   ]
  },
  {
   "cell_type": "code",
   "execution_count": 4,
   "metadata": {},
   "outputs": [
    {
     "name": "stdout",
     "output_type": "stream",
     "text": [
      "=12%\r"
     ]
    }
   ],
   "source": [
    "l1 = \"=\"\n",
    "l1_perc = l1 + perc + \"%\"     # =5%\n",
    "print(l1_perc, end = '\\r')\n",
    "time.sleep(1)"
   ]
  },
  {
   "cell_type": "code",
   "execution_count": 5,
   "metadata": {},
   "outputs": [
    {
     "name": "stdout",
     "output_type": "stream",
     "text": [
      "=========100%\r"
     ]
    }
   ],
   "source": [
    "for i in range(1, count):  \n",
    "    h = (i + 1) * perc1               # (1 + 1) * 5, (2 + 1) * 5, (3 + 1) * 5, ...\n",
    "    l11 = l1 * (i + 1) + str(h) + \"%\"   # ==10%, ===15%, ====20%\n",
    "    print(l11, end = '\\r')          \n",
    "    sys.stdout.flush()\n",
    "    time.sleep(1)\n",
    "if yushu>0:\n",
    "    l11 = l1 * (count+1) +\"100%\" \n",
    "    print(l11, end = '\\r')  "
   ]
  },
  {
   "cell_type": "code",
   "execution_count": 20,
   "metadata": {},
   "outputs": [
    {
     "name": "stdout",
     "output_type": "stream",
     "text": [
      "读者名： Ryan 年龄： 9\n"
     ]
    }
   ],
   "source": [
    "user_name = \"Ryan\" \n",
    "user_age = 9\n",
    "print(\"读者名：\" ,user_name,\"年龄：\"  ,user_age)\n",
    "         "
   ]
  },
  {
   "cell_type": "code",
   "execution_count": 7,
   "metadata": {},
   "outputs": [
    {
     "name": "stdout",
     "output_type": "stream",
     "text": [
      "■■■■■■■■■■■■■■■■■■■■100%\r"
     ]
    }
   ],
   "source": []
  },
  {
   "cell_type": "code",
   "execution_count": 21,
   "metadata": {
    "scrolled": true
   },
   "outputs": [
    {
     "name": "stdout",
     "output_type": "stream",
     "text": [
      "读者名： Ryan 年龄： 9\n"
     ]
    }
   ],
   "source": []
  },
  {
   "cell_type": "markdown",
   "metadata": {},
   "source": [
    " print(\"欢迎来到香肠派对！！！\")\n",
    "print(\"这个游戏是小恐龙公司出品！！\")\n",
    "print(\"正在加载中。 。 。\")\n",
    "import time\n",
    "import sys\n",
    "\n",
    " perc = input(\"请输入每次增长的百分比：\")\n",
    "perc = '5'\n",
    "perc1 = int(perc)\n",
    "count = 2  \n",
    "while int(perc)>100 and count > 0:\n",
    "    perc = input(\"请重新输入:\")\n",
    "    count = count-1\n",
    " \n",
    "\n",
    "if count == 0:\n",
    "        print(\"输入字数过多，下次再来试吧！！！\")\n",
    "count = int(100 / perc1)\n",
    "\n",
    "l1 = \"■\"\n",
    "l1_0 = l1 + perc + \"%\"     # =5%\n",
    "print(l1_0, end = '\\r')\n",
    "time.sleep(1)\n",
    "for i in range(1, count):  \n",
    "    h = (i + 1) * perc1\n",
    "    l11 = l1 * (i + 1) + str(h) + \"%\" # ==10%, ===15%\n",
    "    print(l11, end = '\\r')\n",
    "    sys.stdout.flush()\n",
    "    time.sleep(1)\n",
    "print(\"\\n加载完成！！！\") \n",
    "\n",
    "from random import *\n",
    "number = randint(1000,9999)\n",
    "print(\"验证码是\" ,number)\n",
    "count = 2\n",
    "\n",
    "while(count>0):\n",
    "    \n",
    "    answer = input(\"验证码是：\")\n",
    "    answer =int(answer) \n",
    "    if answer ==\"number\":\n",
    "        print(\"验证通过！！！\")\n",
    "        print(\"启动游戏中。。。\")  \n",
    "    else:\n",
    "        print(\"验证未通过!请重新输入:\")\n",
    "        count = count-1\n",
    "        \n",
    "    if  count == 0 :\n",
    "        print(\"\\n输入次数过多，下次再玩吧！！\")\n",
    "    \n",
    "    \n",
    "    "
   ]
  },
  {
   "cell_type": "code",
   "execution_count": 1,
   "metadata": {},
   "outputs": [
    {
     "name": "stdout",
     "output_type": "stream",
     "text": [
      "欢迎来到香肠派对！！！\n",
      "这个游戏是小恐龙公司出品！！\n",
      "正在加载中。 。 。\n",
      "■■■■■■■■■■■■■■■■■■■■100%\n",
      "加载完毕！！\n",
      "\n",
      "验证码是 1185\n",
      "验证码是：1185\n",
      "验证通过！！！\n",
      "启动游戏中。。。\n",
      "启动完毕！！！游戏开始！！！\n",
      "准备跳伞！！\n",
      "\n",
      "你想跳到：1.城堡 2.飞行禁地\n",
      "请输入你想跳的地方：1\n",
      "没问题，已跳伞！\n",
      "\n",
      "城堡有：AK47，三级书包，三级头盔 1.拿 2.不拿\n",
      "请输入1或2:1\n",
      "恭喜你获得AK47，三级书包，三级头盔！！！\n",
      "来了一个有四级头盔的人！ 1.打 2.跑\n",
      "请输入1或2:1\n",
      "你打死了有四级头盔的人\n",
      "有四级头盔 1.拿 2.不拿\n",
      "请输入1或2:1\n",
      "恭喜你获得四级头盔!!\n",
      "前方有人！1.逃跑 2.打\n",
      "请输入1或2:1\n",
      "你被打死了，那个人吃鸡了！！！\n"
     ]
    }
   ],
   "source": [
    "print(\"欢迎来到香肠派对！！！\")\n",
    "print(\"这个游戏是小恐龙公司出品！！\")\n",
    "print(\"正在加载中。 。 。\")\n",
    "\n",
    "import time\n",
    "import sys\n",
    "\n",
    "perc = '5' \n",
    "perc1 = int(perc)\n",
    "\n",
    "count = 2  \n",
    "while int(perc)>100 and count > 0:\n",
    "    perc = input(\"请重新输入:\")\n",
    "    count = count-1\n",
    "if count == 0:\n",
    "        print(\"输入字数过多，下次再来试吧！！！\")\n",
    "        \n",
    "count = int(100 /perc1)\n",
    "yushu = (100%perc1)\n",
    "# print(\"余数是：\", yushu)    \n",
    "\n",
    "l1 = \"■\"\n",
    "l1_perc = l1 + perc + \"%\"     # =5%\n",
    "print(l1_perc, end = '\\r')\n",
    "time.sleep(1)\n",
    "\n",
    "for i in range(1, count):  \n",
    "    h = (i + 1) * perc1               # (1 + 1) * 5, (2 + 1) * 5, (3 + 1) * 5, ...\n",
    "    l11 = l1 * (i + 1) + str(h) + \"%\"   #==10%, ===15%, ====20%\n",
    "    print(l11, end = '\\r')          \n",
    "    sys.stdout.flush()\n",
    "    time.sleep(1)\n",
    "if yushu>0:\n",
    "    l11 = l1 * (count+1) +\"100%\" \n",
    "    print(l11, end = '\\r')  \n",
    "    time.sleep(2)\n",
    "else:\n",
    "    time.sleep(1)\n",
    "    print(\"\\n加载完毕！！\")\n",
    "    \n",
    "from random import *\n",
    "number = randint(1000,9999) \n",
    "print(\"\\n验证码是\" ,number) \n",
    "count = 4\n",
    "while(count>0):\n",
    "    answer = input(\"验证码是：\")\n",
    "    answer  = int(    answer  )\n",
    "    if answer ==number:\n",
    "        print(\"验证通过！！！\")\n",
    "        print(\"启动游戏中。。。\")\n",
    "        print(\"启动完毕！！！游戏开始！！！\")\n",
    "        print(\"准备跳伞！！\")\n",
    "        print(\"\\n你想跳到：1.城堡 2.飞行禁地\")\n",
    "        answer = input(\"请输入你想跳的地方：\")\n",
    "        if answer ==\"1\":\n",
    "            print(\"没问题，已跳伞！\")\n",
    "            print(\"\\n城堡有：AK47，三级书包，三级头盔 1.拿 2.不拿\")\n",
    "            answer = input(\"请输入1或2:\")\n",
    "            if answer ==\"1\":   \n",
    "                print(\"恭喜你获得AK47，三级书包，三级头盔！！！\")\n",
    "                print(\"来了一个有四级头盔的人！ 1.打 2.跑\")\n",
    "                answer = input(\"请输入1或2:\")\n",
    "                if answer ==\"1\":\n",
    "                    print(\"你打死了有四级头盔的人\")\n",
    "                    print(\"有四级头盔 1.拿 2.不拿\")\n",
    "                    answer = input(\"请输入1或2:\")\n",
    "                    if answer ==\"1\":\n",
    "                        print(\"恭喜你获得四级头盔!!\")\n",
    "                        print(\"前方有人！1.逃跑 2.打\")                        \n",
    "                        answer = input(\"请输入1或2:\")\n",
    "                        if answer ==\"2\":\n",
    "                            print(\"三杀，大吉大利今晚吃鸡！！！！！\")\n",
    "                        if answer ==\"1\":\n",
    "                            print(\"你被打死了，那个人吃鸡了！！！\")\n",
    "                        break    \n",
    "                    if answer ==\"2\":\n",
    "                        print(\"有个叫:狙击战神的拿了，你被打死了！！\")\n",
    "                    break    \n",
    "                if answer ==\"2\":\n",
    "                    print(\"你被打死了！！\")\n",
    "                break    \n",
    "                \n",
    "            if answer ==\"2\": \n",
    "                print(\"一个叫：毛绒绒的小狗拿了！把你打死了！！\")\n",
    "            break     \n",
    "        if answer ==\"2\":\n",
    "            print(\"没问题，已跳伞！\")\n",
    "            print(\"\\n飞行禁地有：三级头盔 1.不拿  2.拿\")\n",
    "            answer = input(\"请输入1或2:\")\n",
    "            if answer ==\"1\":   \n",
    "                print(\"那是诱饵，你被一个叫：小虫虫的打死了！\") \n",
    "            if answer ==\"2\": \n",
    "                print(\"你没被骗！但你没装备被一个叫：胜利属于我们的打死了！\")\n",
    "            break\n",
    "    else:\n",
    "        print(\"验证未通过!请重新输入:\")\n",
    "        count = count-1\n",
    "\n",
    "    if  count == 0 :\n",
    "        print(\"\\n输入次数过多，下次再玩吧！！\")\n",
    "     \n",
    "   \n",
    "\n",
    "\n"
   ]
  },
  {
   "cell_type": "code",
   "execution_count": null,
   "metadata": {},
   "outputs": [],
   "source": []
  }
 ],
 "metadata": {
  "kernelspec": {
   "display_name": "Python 3",
   "language": "python",
   "name": "python3"
  },
  "language_info": {
   "codemirror_mode": {
    "name": "ipython",
    "version": 3
   },
   "file_extension": ".py",
   "mimetype": "text/x-python",
   "name": "python",
   "nbconvert_exporter": "python",
   "pygments_lexer": "ipython3",
   "version": "3.7.0"
  }
 },
 "nbformat": 4,
 "nbformat_minor": 2
}
